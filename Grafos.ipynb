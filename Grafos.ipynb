{
  "nbformat": 4,
  "nbformat_minor": 0,
  "metadata": {
    "colab": {
      "provenance": [],
      "authorship_tag": "ABX9TyNucqkwia1Zyc8shKGj0LoX",
      "include_colab_link": true
    },
    "kernelspec": {
      "name": "python3",
      "display_name": "Python 3"
    },
    "language_info": {
      "name": "python"
    }
  },
  "cells": [
    {
      "cell_type": "markdown",
      "metadata": {
        "id": "view-in-github",
        "colab_type": "text"
      },
      "source": [
        "<a href=\"https://colab.research.google.com/github/l24590403-crypto/Ejercicios-U1/blob/main/Grafos.ipynb\" target=\"_parent\"><img src=\"https://colab.research.google.com/assets/colab-badge.svg\" alt=\"Open In Colab\"/></a>"
      ]
    },
    {
      "cell_type": "code",
      "execution_count": null,
      "metadata": {
        "id": "fnuw_o3GtoHX"
      },
      "outputs": [],
      "source": [
        "from collections import deque\n",
        "\n",
        "class Grafo:\n",
        "    def __init__(self):\n",
        "        self.ady = {}\n",
        "\n",
        "    def agregar_vertice(self, v):\n",
        "        if v not in self.ady:\n",
        "            self.ady[v] = []\n",
        "\n",
        "    def agregar_arista(self, v1, v2):\n",
        "        if v1 in self.ady and v2 in self.ady:\n",
        "            self.ady[v1].append(v2)\n",
        "            self.ady[v2].append(v1)  # No dirigido\n",
        "\n",
        "    def bfs(self, inicio):\n",
        "        visitados = set()\n",
        "        cola = deque([inicio])\n",
        "        recorrido = []\n",
        "\n",
        "        while cola:\n",
        "            actual = cola.popleft()\n",
        "            if actual not in visitados:\n",
        "                visitados.add(actual)\n",
        "                recorrido.append(actual)\n",
        "                cola.extend(self.ady[actual])\n",
        "\n",
        "        return recorrido\n",
        "\n",
        "    def dfs(self, inicio):\n",
        "        visitados = set()\n",
        "        recorrido = []\n",
        "\n",
        "        def dfs_recursivo(nodo):\n",
        "            if nodo not in visitados:\n",
        "                visitados.add(nodo)\n",
        "                recorrido.append(nodo)\n",
        "                for vecino in self.ady[nodo]:\n",
        "                    dfs_recursivo(vecino)\n",
        "\n",
        "        dfs_recursivo(inicio)\n",
        "        return recorrido\n",
        "\n",
        "\n",
        "# Prueba\n",
        "g = Grafo()\n",
        "for v in [\"A\", \"B\", \"C\", \"D\", \"E\"]:\n",
        "    g.agregar_vertice(v)\n",
        "\n",
        "g.agregar_arista(\"A\", \"B\")\n",
        "g.agregar_arista(\"A\", \"C\")\n",
        "g.agregar_arista(\"B\", \"D\")\n",
        "g.agregar_arista(\"C\", \"E\")\n",
        "\n",
        "print(\"BFS desde A:\", g.bfs(\"A\"))  # ['A', 'B', 'C', 'D', 'E']\n",
        "print(\"DFS desde A:\", g.dfs(\"A\"))  # ['A', 'B', 'D', 'C', 'E']\n"
      ]
    }
  ]
}