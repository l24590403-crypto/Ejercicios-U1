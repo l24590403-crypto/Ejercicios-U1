{
  "nbformat": 4,
  "nbformat_minor": 0,
  "metadata": {
    "colab": {
      "provenance": [],
      "authorship_tag": "ABX9TyPZJ9k3vRkFzgrT39Df7Xao",
      "include_colab_link": true
    },
    "kernelspec": {
      "name": "python3",
      "display_name": "Python 3"
    },
    "language_info": {
      "name": "python"
    }
  },
  "cells": [
    {
      "cell_type": "markdown",
      "metadata": {
        "id": "view-in-github",
        "colab_type": "text"
      },
      "source": [
        "<a href=\"https://colab.research.google.com/github/l24590403-crypto/Ejercicios-U1/blob/main/Es_palindromo.ipynb\" target=\"_parent\"><img src=\"https://colab.research.google.com/assets/colab-badge.svg\" alt=\"Open In Colab\"/></a>"
      ]
    },
    {
      "cell_type": "code",
      "execution_count": 1,
      "metadata": {
        "colab": {
          "base_uri": "https://localhost:8080/"
        },
        "id": "LPF70192pjik",
        "outputId": "2c25f2dd-2fa8-4be8-b7c2-055f5e53420a"
      },
      "outputs": [
        {
          "output_type": "stream",
          "name": "stdout",
          "text": [
            "'Anita lava la tina' -> Sí es un palíndromo.\n",
            "'A man, a plan, a canal: Panama' -> Sí es un palíndromo.\n",
            "'oso' -> Sí es un palíndromo.\n",
            "'racecar' -> Sí es un palíndromo.\n",
            "'Hola Mundo' -> No es un palíndromo.\n",
            "'12321' -> Sí es un palíndromo.\n"
          ]
        }
      ],
      "source": [
        "from collections import deque\n",
        "\n",
        "def es_palindromo(texto: str) -> bool:\n",
        "    pila = []\n",
        "    cola = deque()\n",
        "\n",
        "    for caracter in texto:\n",
        "        if caracter.isalnum():  # solo letras y números\n",
        "            caracter_limpio = caracter.lower()\n",
        "            pila.append(caracter_limpio)\n",
        "            cola.append(caracter_limpio)\n",
        "\n",
        "    if not pila:\n",
        "        print(\"El texto no contiene caracteres válidos.\")\n",
        "        return False\n",
        "\n",
        "    while cola:\n",
        "        de_la_cola = cola.popleft()\n",
        "        de_la_pila = pila.pop()\n",
        "        if de_la_cola != de_la_pila:\n",
        "            return False\n",
        "\n",
        "    return True\n",
        "\n",
        "if __name__ == \"__main__\":\n",
        "    frases_de_prueba = [\n",
        "        \"Anita lava la tina\",\n",
        "        \"A man, a plan, a canal: Panama\",\n",
        "        \"oso\",\n",
        "        \"racecar\",\n",
        "        \"Hola Mundo\",\n",
        "        \"12321\"\n",
        "    ]\n",
        "\n",
        "    for frase in frases_de_prueba:\n",
        "        if es_palindromo(frase):\n",
        "            print(f\"'{frase}' -> Sí es un palíndromo.\")\n",
        "        else:\n",
        "            print(f\"'{frase}' -> No es un palíndromo.\")"
      ]
    }
  ]
}