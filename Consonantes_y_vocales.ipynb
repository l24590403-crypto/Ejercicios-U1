{
  "nbformat": 4,
  "nbformat_minor": 0,
  "metadata": {
    "colab": {
      "provenance": [],
      "authorship_tag": "ABX9TyMAcJnCxsS/SBvyx8ErmZNy",
      "include_colab_link": true
    },
    "kernelspec": {
      "name": "python3",
      "display_name": "Python 3"
    },
    "language_info": {
      "name": "python"
    }
  },
  "cells": [
    {
      "cell_type": "markdown",
      "metadata": {
        "id": "view-in-github",
        "colab_type": "text"
      },
      "source": [
        "<a href=\"https://colab.research.google.com/github/l24590403-crypto/Ejercicios-U1/blob/main/Consonantes_y_vocales.ipynb\" target=\"_parent\"><img src=\"https://colab.research.google.com/assets/colab-badge.svg\" alt=\"Open In Colab\"/></a>"
      ]
    },
    {
      "cell_type": "code",
      "execution_count": null,
      "metadata": {
        "id": "OnATuTLLq0J_"
      },
      "outputs": [],
      "source": [
        "class Pila:\n",
        "    def _init_(self):\n",
        "        self.items = []\n",
        "\n",
        "    def push(self, dato):\n",
        "        \"\"\"Agrega un elemento a la cima de la pila.\"\"\"\n",
        "        self.items.append(dato)\n",
        "\n",
        "    def pop(self):\n",
        "        \"\"\"Elimina y devuelve el elemento de la cima de la pila.\"\"\"\n",
        "        return self.items.pop() if not self.is_empty() else None\n",
        "\n",
        "    def is_empty(self):\n",
        "        \"\"\"Verifica si la pila está vacía.\"\"\"\n",
        "        return len(self.items) == 0\n",
        "\n",
        "\n",
        "def separar_recursivo(cadena, i, pila_vocales, pila_consonantes):\n",
        "    \"\"\"Función recursiva que separa vocales y consonantes en pilas.\"\"\"\n",
        "    if i == len(cadena):\n",
        "        return\n",
        "\n",
        "    caracter = cadena[i].lower()\n",
        "\n",
        "    if caracter in \"aeiouáéíóú\":\n",
        "        pila_vocales.push(cadena[i])\n",
        "    elif caracter.isalpha():\n",
        "        pila_consonantes.push(cadena[i])\n",
        "\n",
        "    separar_recursivo(cadena, i + 1, pila_vocales, pila_consonantes)\n",
        "\n",
        "\n",
        "texto = input(\"Ingrese una cadena de texto: \")\n",
        "\n",
        "pila_vocales = Pila()\n",
        "pila_consonantes = Pila()\n",
        "\n",
        "separar_recursivo(texto, 0, pila_vocales, pila_consonantes)\n",
        "\n",
        "print(\"Pila de vocales:\", pila_vocales.items)\n",
        "print(\"Pila de consonantes:\", pila_consonantes.items)"
      ]
    }
  ]
}