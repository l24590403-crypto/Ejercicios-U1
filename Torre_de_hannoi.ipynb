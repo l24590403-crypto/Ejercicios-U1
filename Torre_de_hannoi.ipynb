{
  "nbformat": 4,
  "nbformat_minor": 0,
  "metadata": {
    "colab": {
      "provenance": [],
      "authorship_tag": "ABX9TyOhW0uVjP4p9uC1zn+k/wCc",
      "include_colab_link": true
    },
    "kernelspec": {
      "name": "python3",
      "display_name": "Python 3"
    },
    "language_info": {
      "name": "python"
    }
  },
  "cells": [
    {
      "cell_type": "markdown",
      "metadata": {
        "id": "view-in-github",
        "colab_type": "text"
      },
      "source": [
        "<a href=\"https://colab.research.google.com/github/l24590403-crypto/Ejercicios-U1/blob/main/Torre_de_hannoi.ipynb\" target=\"_parent\"><img src=\"https://colab.research.google.com/assets/colab-badge.svg\" alt=\"Open In Colab\"/></a>"
      ]
    },
    {
      "cell_type": "code",
      "execution_count": null,
      "metadata": {
        "id": "bNauxZeSpJw3"
      },
      "outputs": [],
      "source": [
        "class Pila:\n",
        "    def _init_(self):\n",
        "        self.items = []\n",
        "\n",
        "    def push(self, dato):\n",
        "        self.items.append(dato)\n",
        "\n",
        "    def pop(self):\n",
        "        return self.items.pop() if not self.is_empty() else None\n",
        "\n",
        "    def peek(self):\n",
        "        return self.items[-1] if not self.is_empty() else None\n",
        "\n",
        "    def is_empty(self):\n",
        "        return len(self.items) == 0\n",
        "\n",
        "    def _str_(self):\n",
        "        return str(self.items)\n",
        "\n",
        "contador_movimientos = 0\n",
        "\n",
        "def hanoi(n, origen, destino, auxiliar, nombre_origen, nombre_destino, nombre_auxiliar):\n",
        "    global contador_movimientos\n",
        "\n",
        "    if n == 1:\n",
        "        disco = origen.pop()\n",
        "        destino.push(disco)\n",
        "        contador_movimientos += 1\n",
        "        print(f\"({contador_movimientos}) Mover disco {disco} de Torre {nombre_origen} a Torre {nombre_destino}\")\n",
        "        return\n",
        "\n",
        "    hanoi(n - 1, origen, auxiliar, destino, nombre_origen, nombre_auxiliar, nombre_destino)\n",
        "\n",
        "    disco = origen.pop()\n",
        "    destino.push(disco)\n",
        "    contador_movimientos += 1\n",
        "    print(f\"({contador_movimientos}) Mover disco {disco} de Torre {nombre_origen} a Torre {nombre_destino}\")\n",
        "\n",
        "    hanoi(n - 1, auxiliar, destino, origen, nombre_auxiliar, nombre_destino, nombre_origen)\n",
        "\n",
        "\n",
        "\n",
        "torre_A = Pila()\n",
        "torre_B = Pila()\n",
        "torre_C = Pila()\n",
        "\n",
        "try:\n",
        "    num_discos = int(input(\"Ingrese la cantidad de discos para la Torre de Hanoi: \"))\n",
        "    if num_discos <= 0:\n",
        "        print(\"Por favor, ingrese un número positivo de discos.\")\n",
        "    else:\n",
        "        for i in range(num_discos, 0, -1):\n",
        "            torre_A.push(i)\n",
        "\n",
        "        print(\"\\n--- ESTADO INICIAL ---\")\n",
        "        print(f\"Torre A: {torre_A}\")\n",
        "        print(f\"Torre B: {torre_B}\")\n",
        "        print(f\"Torre C: {torre_C}\")\n",
        "        print(\"\\n--- COMIENZAN LOS MOVIMIENTOS ---\")\n",
        "\n",
        "        hanoi(num_discos, torre_A, torre_B, torre_C, 'A', 'B', 'C')\n",
        "\n",
        "        print(\"\\n--- ESTADO FINAL --- 🏁\")\n",
        "        print(f\"Torre A: {torre_A}\")\n",
        "        print(f\"Torre B: {torre_B}\")\n",
        "        print(f\"Torre C: {torre_C}\")\n",
        "        print(f\"\\n Se completó en un total de {contador_movimientos} movimientos.\")\n",
        "\n",
        "except ValueError:\n",
        "    print(\"Entrada no válida. Por favor, ingrese un número entero.\")"
      ]
    }
  ]
}