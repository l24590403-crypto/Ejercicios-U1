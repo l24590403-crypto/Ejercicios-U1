{
  "nbformat": 4,
  "nbformat_minor": 0,
  "metadata": {
    "colab": {
      "provenance": [],
      "authorship_tag": "ABX9TyPkIr31zjBUaeOPiXeP9sOM",
      "include_colab_link": true
    },
    "kernelspec": {
      "name": "python3",
      "display_name": "Python 3"
    },
    "language_info": {
      "name": "python"
    }
  },
  "cells": [
    {
      "cell_type": "markdown",
      "metadata": {
        "id": "view-in-github",
        "colab_type": "text"
      },
      "source": [
        "<a href=\"https://colab.research.google.com/github/l24590403-crypto/Ejercicios-U1/blob/main/CodigoASCII.ipynb\" target=\"_parent\"><img src=\"https://colab.research.google.com/assets/colab-badge.svg\" alt=\"Open In Colab\"/></a>"
      ]
    },
    {
      "cell_type": "code",
      "execution_count": null,
      "metadata": {
        "id": "zfM1XtW6rI4N"
      },
      "outputs": [],
      "source": [
        "class CifradoAscii:\n",
        "\n",
        "\n",
        "    def __init__(self, conservar_no_letras: bool = False, separador: str = \" \"):\n",
        "\n",
        "        self.conservar_no_letras = conservar_no_letras\n",
        "        self.separador = separador\n",
        "\n",
        "    def texto_a_ascii(self, texto: str) -> list[str]:\n",
        "\n",
        "        resultado: list[str] = []\n",
        "        for caracter in texto.lower():\n",
        "            if \"a\" <= caracter <= \"z\":\n",
        "                resultado.append(str(ord(caracter)))\n",
        "            elif self.conservar_no_letras:\n",
        "                resultado.append(caracter)\n",
        "        return resultado\n",
        "\n",
        "    def texto_a_ascii_str(self, texto: str) -> str:\n",
        "\n",
        "        lista = self.texto_a_ascii(texto)\n",
        "        return self.separador.join(lista)\n",
        "\n",
        "    def ascii_a_texto(self, lista_ascii) -> str:\n",
        "\n",
        "        if isinstance(lista_ascii, str):\n",
        "            if lista_ascii.strip() == \"\":\n",
        "                elementos = []\n",
        "            else:\n",
        "                elementos = lista_ascii.split(self.separador)\n",
        "        else:\n",
        "\n",
        "            elementos = list(lista_ascii)\n",
        "\n",
        "        reconstruidos: list[str] = []\n",
        "        for elemento in elementos:\n",
        "\n",
        "            if not elemento:\n",
        "                continue\n",
        "            if elemento.isdigit():\n",
        "                try:\n",
        "                    codigo = int(elemento)\n",
        "                    reconstruidos.append(chr(codigo))\n",
        "                except (ValueError, OverflowError):\n",
        "\n",
        "                    continue\n",
        "            elif self.conservar_no_letras:\n",
        "                reconstruidos.append(elemento)\n",
        "\n",
        "        return \"\".join(reconstruidos)\n",
        "\n",
        "\n",
        "\n",
        "if __name__ == \"__main__\":\n",
        "\n",
        "    cifrador = CifradoAscii(conservar_no_letras=False, separador=\" \")\n",
        "\n",
        "    texto = input(\"Escribe una palabra o frase: \")\n",
        "\n",
        "    lista_codigos = cifrador.texto_a_ascii(texto)\n",
        "\n",
        "    if lista_codigos:\n",
        "        codigos_str = cifrador.texto_a_ascii_str(texto)\n",
        "        print(f\"Códigos ASCII de las letras: {codigos_str}\")\n",
        "\n",
        "        texto_original = cifrador.ascii_a_texto(lista_codigos)\n",
        "        print(f\"Texto reconstruido (desde lista): {texto_original}\")\n",
        "\n",
        "\n",
        "        texto_original_desde_str = cifrador.ascii_a_texto(codigos_str)\n",
        "        print(f\"Texto reconstruido (desde cadena): {texto_original_desde_str}\")\n",
        "    else:\n",
        "        print(\"No se encontraron letras de la 'a' a la 'z' en el texto.\")"
      ]
    }
  ]
}