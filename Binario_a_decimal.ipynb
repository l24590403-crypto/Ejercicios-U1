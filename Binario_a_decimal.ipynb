{
  "nbformat": 4,
  "nbformat_minor": 0,
  "metadata": {
    "colab": {
      "provenance": [],
      "authorship_tag": "ABX9TyM6rHUCbynq3jPSrXvhE/nu",
      "include_colab_link": true
    },
    "kernelspec": {
      "name": "python3",
      "display_name": "Python 3"
    },
    "language_info": {
      "name": "python"
    }
  },
  "cells": [
    {
      "cell_type": "markdown",
      "metadata": {
        "id": "view-in-github",
        "colab_type": "text"
      },
      "source": [
        "<a href=\"https://colab.research.google.com/github/l24590403-crypto/Ejercicios-U1/blob/main/Binario_a_decimal.ipynb\" target=\"_parent\"><img src=\"https://colab.research.google.com/assets/colab-badge.svg\" alt=\"Open In Colab\"/></a>"
      ]
    },
    {
      "cell_type": "code",
      "execution_count": 1,
      "metadata": {
        "colab": {
          "base_uri": "https://localhost:8080/"
        },
        "id": "TOmkivGrqI6y",
        "outputId": "0ad25bca-5743-41aa-aef9-828f10120ec1"
      },
      "outputs": [
        {
          "output_type": "stream",
          "name": "stdout",
          "text": [
            "Binario: 1011\n",
            "Decimal: 11\n"
          ]
        }
      ],
      "source": [
        "class Pila:\n",
        "    def __init__(self):\n",
        "        self.items = []\n",
        "\n",
        "    def push(self, dato):\n",
        "        self.items.append(dato)\n",
        "\n",
        "    def pop(self):\n",
        "        return self.items.pop() if not self.is_empty() else None\n",
        "\n",
        "    def peek(self):\n",
        "        return self.items[-1] if not self.is_empty() else None\n",
        "\n",
        "    def is_empty(self):\n",
        "        return len(self.items) == 0\n",
        "\n",
        "\n",
        "def binario_a_decimal(binario):\n",
        "    pila = Pila()\n",
        "\n",
        "    for digito in binario:\n",
        "        pila.push(int(digito))\n",
        "\n",
        "    decimal = 0\n",
        "    potencia = 0\n",
        "\n",
        "    while not pila.is_empty():\n",
        "        valor = pila.pop()\n",
        "        decimal += valor * (2 ** potencia)\n",
        "        potencia += 1\n",
        "\n",
        "    return decimal\n",
        "\n",
        "\n",
        "\n",
        "binario = \"1011\"\n",
        "print(\"Binario:\", binario)\n",
        "print(\"Decimal:\", binario_a_decimal(binario))\n"
      ]
    }
  ]
}